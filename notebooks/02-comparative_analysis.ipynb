{
 "cells": [
  {
   "cell_type": "markdown",
   "metadata": {},
   "source": [
    "# Análise comparativa de modelos"
   ]
  },
  {
   "cell_type": "code",
   "execution_count": 1,
   "metadata": {
    "tags": []
   },
   "outputs": [],
   "source": [
    "from IPython.display import display, Markdown\n",
    "import joblib\n",
    "import numpy as np\n",
    "import pandas as pd\n",
    "\n",
    "from sklearn.pipeline import Pipeline\n",
    "from sklearn.impute import SimpleImputer\n",
    "from sklearn.preprocessing import StandardScaler, MinMaxScaler, OneHotEncoder, OrdinalEncoder, LabelEncoder\n",
    "from sklearn.compose import ColumnTransformer\n",
    "from sklearn.linear_model import LogisticRegression\n",
    "\n",
    "from sklearn.neighbors import KNeighborsClassifier\n",
    "from sklearn.model_selection import ShuffleSplit, GridSearchCV, KFold, cross_validate\n",
    "from sklearn.svm import SVC\n",
    "from sklearn.tree import DecisionTreeClassifier\n",
    "from sklearn.ensemble import RandomForestClassifier"
   ]
  },
  {
   "cell_type": "markdown",
   "metadata": {},
   "source": [
    "## 1. Obtenção de dados\n",
    "Nessa etapa obtemos novamnete os arquivos brutos de dados e o dicionário antes de iniciar o pre-processamento."
   ]
  },
  {
   "cell_type": "code",
   "execution_count": 2,
   "metadata": {
    "tags": []
   },
   "outputs": [
    {
     "data": {
      "text/html": [
       "<div>\n",
       "<style scoped>\n",
       "    .dataframe tbody tr th:only-of-type {\n",
       "        vertical-align: middle;\n",
       "    }\n",
       "\n",
       "    .dataframe tbody tr th {\n",
       "        vertical-align: top;\n",
       "    }\n",
       "\n",
       "    .dataframe thead th {\n",
       "        text-align: right;\n",
       "    }\n",
       "</style>\n",
       "<table border=\"1\" class=\"dataframe\">\n",
       "  <thead>\n",
       "    <tr style=\"text-align: right;\">\n",
       "      <th></th>\n",
       "      <th>variavel</th>\n",
       "      <th>descricao</th>\n",
       "      <th>tipo</th>\n",
       "      <th>subtipo</th>\n",
       "    </tr>\n",
       "  </thead>\n",
       "  <tbody>\n",
       "    <tr>\n",
       "      <th>0</th>\n",
       "      <td>species</td>\n",
       "      <td>Nome da espécie</td>\n",
       "      <td>qualitativa</td>\n",
       "      <td>nominal</td>\n",
       "    </tr>\n",
       "    <tr>\n",
       "      <th>1</th>\n",
       "      <td>island</td>\n",
       "      <td>Nome da ilha onde foi feita a medição</td>\n",
       "      <td>qualitativa</td>\n",
       "      <td>nominal</td>\n",
       "    </tr>\n",
       "    <tr>\n",
       "      <th>2</th>\n",
       "      <td>bill_length_mm</td>\n",
       "      <td>Comprimento de bico</td>\n",
       "      <td>quantitativa</td>\n",
       "      <td>continua</td>\n",
       "    </tr>\n",
       "    <tr>\n",
       "      <th>3</th>\n",
       "      <td>bill_depth_mm</td>\n",
       "      <td>Profundidade (altura) de bico</td>\n",
       "      <td>quantitativa</td>\n",
       "      <td>continua</td>\n",
       "    </tr>\n",
       "    <tr>\n",
       "      <th>4</th>\n",
       "      <td>flipper_length_mm</td>\n",
       "      <td>Comprimento de nadadeira</td>\n",
       "      <td>quantitativa</td>\n",
       "      <td>continua</td>\n",
       "    </tr>\n",
       "    <tr>\n",
       "      <th>5</th>\n",
       "      <td>body_mass_g</td>\n",
       "      <td>Massa corporal (peso)</td>\n",
       "      <td>quantitativa</td>\n",
       "      <td>continua</td>\n",
       "    </tr>\n",
       "    <tr>\n",
       "      <th>6</th>\n",
       "      <td>sex</td>\n",
       "      <td>Sexo dos indivíduos</td>\n",
       "      <td>qualitativa</td>\n",
       "      <td>nominal</td>\n",
       "    </tr>\n",
       "  </tbody>\n",
       "</table>\n",
       "</div>"
      ],
      "text/plain": [
       "            variavel                              descricao          tipo  \\\n",
       "0            species                        Nome da espécie   qualitativa   \n",
       "1             island  Nome da ilha onde foi feita a medição   qualitativa   \n",
       "2     bill_length_mm                    Comprimento de bico  quantitativa   \n",
       "3      bill_depth_mm          Profundidade (altura) de bico  quantitativa   \n",
       "4  flipper_length_mm               Comprimento de nadadeira  quantitativa   \n",
       "5        body_mass_g                  Massa corporal (peso)  quantitativa   \n",
       "6                sex                    Sexo dos indivíduos   qualitativa   \n",
       "\n",
       "    subtipo  \n",
       "0   nominal  \n",
       "1   nominal  \n",
       "2  continua  \n",
       "3  continua  \n",
       "4  continua  \n",
       "5  continua  \n",
       "6   nominal  "
      ]
     },
     "execution_count": 2,
     "metadata": {},
     "output_type": "execute_result"
    }
   ],
   "source": [
    "df = pd.read_csv(\"../data/raw/data.csv\")\n",
    "df_dict = pd.read_csv(\"../data/external/dictionary.csv\")\n",
    "df_dict"
   ]
  },
  {
   "cell_type": "markdown",
   "metadata": {},
   "source": [
    "## 2 Preparação de dados\n",
    "Aqui realizamos a normalização, codificação e o tratamento de dados discrepantes e/ou faltantes dentro do conjunto de dados."
   ]
  },
  {
   "cell_type": "code",
   "execution_count": 3,
   "metadata": {
    "tags": []
   },
   "outputs": [],
   "source": [
    "target_column = 'species'\n",
    "nominal_columns = (\n",
    "    df_dict\n",
    "    .query(\"subtipo == 'nominal' and variavel != @target_column\")\n",
    "    .variavel\n",
    "    .to_list()\n",
    ")\n",
    "continuous_columns = (\n",
    "    df_dict\n",
    "    .query(\"subtipo == 'continua'\")\n",
    "    .variavel\n",
    "    .to_list()\n",
    ")\n",
    "\n",
    "X = df.drop(columns=[target_column], axis=1)\n",
    "y = df[target_column]"
   ]
  },
  {
   "cell_type": "code",
   "execution_count": 4,
   "metadata": {
    "tags": []
   },
   "outputs": [],
   "source": [
    "# tratamento de dados discrepantes\n",
    "nominal_preprocessor = Pipeline([\n",
    "    ('missing', SimpleImputer(strategy='most_frequent')), # tratamento de dados faltantes\n",
    "    ('encoding', OneHotEncoder(sparse_output=False, drop='first')), # codificação de variáveis\n",
    "    ('normalization', StandardScaler()) # normalização de dados\n",
    "])\n",
    "continuous_preprocessor = Pipeline([\n",
    "    ('missing', SimpleImputer(strategy='mean')), # tratamento de dados faltantes\n",
    "    ('normalization', StandardScaler()) # normalização de dados\n",
    "])\n",
    "\n",
    "preprocessor = ColumnTransformer([\n",
    "    ('nominal', nominal_preprocessor, nominal_columns),\n",
    "    ('continuous', continuous_preprocessor, continuous_columns)\n",
    "])\n",
    "\n",
    "model = LogisticRegression()"
   ]
  },
  {
   "cell_type": "markdown",
   "metadata": {},
   "source": [
    "## 3. Seleção de modelos\n",
    "\n",
    "Iremos análisar quatro modelos, que serão testados utilizando um método de validação, a saber:\n",
    "\n",
    " - K-Nearest-Neighbors\n",
    " - Support Vector Machine\n",
    " - Decision Tree\n",
    " - Random Forest\n",
    "  \n",
    "Além disso, cada um desses algoritmos será testado com diferentes hiper-parametros, para que possamos encontrar o melhor modelo e a melhor configuração possível para esse modelo.\n",
    "\n",
    "Utilizaremos as seguintes métricas para análise:\n",
    " - **Acurácia (accuracy)**: proporção entre os dados que foram corretamente previstos (como positivos ou negativos) com o total de dados observados;\n",
    " - **Precisão (precision)**: proporção entre dados corretamente previstos como positivos e o total de observações positivas. \n",
    " - **Recall**: proporção entre dados corretamente previstos como positivos com o total de observações. \n",
    " - **F1-score**: média entre precision e recall, portanto levando em conta tanto falsos positivos quanto falsos negativos."
   ]
  },
  {
   "cell_type": "code",
   "execution_count": 5,
   "metadata": {},
   "outputs": [],
   "source": [
    "# experiment settings\n",
    "n_splits_comparative_analysis = 10\n",
    "n_folds_grid_search = 5\n",
    "test_size = .2\n",
    "random_state = 42\n",
    "scoring = 'accuracy'\n",
    "metrics = ['accuracy', 'precision_macro', 'recall_macro', 'f1_macro']\n",
    "\n",
    "# model settings\n",
    "max_iter = 1000\n",
    "models = [\n",
    "    ('K-Nearest Neighbors', KNeighborsClassifier(), {\"n_neighbors\": range(3, 20, 2), 'weights': ['uniform', 'distance']}),\n",
    "    ('Suport Vector Machines', SVC(random_state=random_state, max_iter=max_iter), {\"kernel\": [\"linear\", \"rbf\"], 'C':[1,10,100,1000],'gamma':[0.0001, 0.001, 0.1, 1]}),\n",
    "    ('Decision Tree',  DecisionTreeClassifier(random_state=random_state), {'criterion':['gini','entropy'],'max_depth': [3, 6, 8]}),\n",
    "    ('Random Forest',  RandomForestClassifier(random_state=random_state), {'criterion':['gini','entropy'],'max_depth': [3, 6, 8], 'n_estimators': [10, 30]}),\n",
    "]"
   ]
  },
  {
   "cell_type": "code",
   "execution_count": 6,
   "metadata": {},
   "outputs": [
    {
     "name": "stdout",
     "output_type": "stream",
     "text": [
      "running K-Nearest Neighbors...\n"
     ]
    },
    {
     "data": {
      "text/html": [
       "<div>\n",
       "<style scoped>\n",
       "    .dataframe tbody tr th:only-of-type {\n",
       "        vertical-align: middle;\n",
       "    }\n",
       "\n",
       "    .dataframe tbody tr th {\n",
       "        vertical-align: top;\n",
       "    }\n",
       "\n",
       "    .dataframe thead th {\n",
       "        text-align: right;\n",
       "    }\n",
       "</style>\n",
       "<table border=\"1\" class=\"dataframe\">\n",
       "  <thead>\n",
       "    <tr style=\"text-align: right;\">\n",
       "      <th></th>\n",
       "      <th>fit_time</th>\n",
       "      <th>score_time</th>\n",
       "      <th>test_accuracy</th>\n",
       "      <th>test_precision_macro</th>\n",
       "      <th>test_recall_macro</th>\n",
       "      <th>test_f1_macro</th>\n",
       "    </tr>\n",
       "  </thead>\n",
       "  <tbody>\n",
       "    <tr>\n",
       "      <th>mean</th>\n",
       "      <td>1.295083</td>\n",
       "      <td>0.050584</td>\n",
       "      <td>0.994203</td>\n",
       "      <td>0.994947</td>\n",
       "      <td>0.994932</td>\n",
       "      <td>0.994838</td>\n",
       "    </tr>\n",
       "    <tr>\n",
       "      <th>std</th>\n",
       "      <td>0.147834</td>\n",
       "      <td>0.033302</td>\n",
       "      <td>0.007484</td>\n",
       "      <td>0.006914</td>\n",
       "      <td>0.006580</td>\n",
       "      <td>0.006730</td>\n",
       "    </tr>\n",
       "  </tbody>\n",
       "</table>\n",
       "</div>"
      ],
      "text/plain": [
       "      fit_time  score_time  test_accuracy  test_precision_macro  \\\n",
       "mean  1.295083    0.050584       0.994203              0.994947   \n",
       "std   0.147834    0.033302       0.007484              0.006914   \n",
       "\n",
       "      test_recall_macro  test_f1_macro  \n",
       "mean           0.994932       0.994838  \n",
       "std            0.006580       0.006730  "
      ]
     },
     "metadata": {},
     "output_type": "display_data"
    },
    {
     "name": "stdout",
     "output_type": "stream",
     "text": [
      "running Suport Vector Machines...\n"
     ]
    },
    {
     "data": {
      "text/html": [
       "<div>\n",
       "<style scoped>\n",
       "    .dataframe tbody tr th:only-of-type {\n",
       "        vertical-align: middle;\n",
       "    }\n",
       "\n",
       "    .dataframe tbody tr th {\n",
       "        vertical-align: top;\n",
       "    }\n",
       "\n",
       "    .dataframe thead th {\n",
       "        text-align: right;\n",
       "    }\n",
       "</style>\n",
       "<table border=\"1\" class=\"dataframe\">\n",
       "  <thead>\n",
       "    <tr style=\"text-align: right;\">\n",
       "      <th></th>\n",
       "      <th>fit_time</th>\n",
       "      <th>score_time</th>\n",
       "      <th>test_accuracy</th>\n",
       "      <th>test_precision_macro</th>\n",
       "      <th>test_recall_macro</th>\n",
       "      <th>test_f1_macro</th>\n",
       "    </tr>\n",
       "  </thead>\n",
       "  <tbody>\n",
       "    <tr>\n",
       "      <th>mean</th>\n",
       "      <td>1.465620</td>\n",
       "      <td>0.042467</td>\n",
       "      <td>0.991304</td>\n",
       "      <td>0.993603</td>\n",
       "      <td>0.989849</td>\n",
       "      <td>0.991511</td>\n",
       "    </tr>\n",
       "    <tr>\n",
       "      <th>std</th>\n",
       "      <td>0.330958</td>\n",
       "      <td>0.027095</td>\n",
       "      <td>0.010133</td>\n",
       "      <td>0.007229</td>\n",
       "      <td>0.013403</td>\n",
       "      <td>0.010489</td>\n",
       "    </tr>\n",
       "  </tbody>\n",
       "</table>\n",
       "</div>"
      ],
      "text/plain": [
       "      fit_time  score_time  test_accuracy  test_precision_macro  \\\n",
       "mean  1.465620    0.042467       0.991304              0.993603   \n",
       "std   0.330958    0.027095       0.010133              0.007229   \n",
       "\n",
       "      test_recall_macro  test_f1_macro  \n",
       "mean           0.989849       0.991511  \n",
       "std            0.013403       0.010489  "
      ]
     },
     "metadata": {},
     "output_type": "display_data"
    },
    {
     "name": "stdout",
     "output_type": "stream",
     "text": [
      "running Decision Tree...\n"
     ]
    },
    {
     "data": {
      "text/html": [
       "<div>\n",
       "<style scoped>\n",
       "    .dataframe tbody tr th:only-of-type {\n",
       "        vertical-align: middle;\n",
       "    }\n",
       "\n",
       "    .dataframe tbody tr th {\n",
       "        vertical-align: top;\n",
       "    }\n",
       "\n",
       "    .dataframe thead th {\n",
       "        text-align: right;\n",
       "    }\n",
       "</style>\n",
       "<table border=\"1\" class=\"dataframe\">\n",
       "  <thead>\n",
       "    <tr style=\"text-align: right;\">\n",
       "      <th></th>\n",
       "      <th>fit_time</th>\n",
       "      <th>score_time</th>\n",
       "      <th>test_accuracy</th>\n",
       "      <th>test_precision_macro</th>\n",
       "      <th>test_recall_macro</th>\n",
       "      <th>test_f1_macro</th>\n",
       "    </tr>\n",
       "  </thead>\n",
       "  <tbody>\n",
       "    <tr>\n",
       "      <th>mean</th>\n",
       "      <td>0.346543</td>\n",
       "      <td>0.044282</td>\n",
       "      <td>0.963768</td>\n",
       "      <td>0.961011</td>\n",
       "      <td>0.966074</td>\n",
       "      <td>0.962560</td>\n",
       "    </tr>\n",
       "    <tr>\n",
       "      <th>std</th>\n",
       "      <td>0.100382</td>\n",
       "      <td>0.035130</td>\n",
       "      <td>0.018396</td>\n",
       "      <td>0.022401</td>\n",
       "      <td>0.018638</td>\n",
       "      <td>0.020508</td>\n",
       "    </tr>\n",
       "  </tbody>\n",
       "</table>\n",
       "</div>"
      ],
      "text/plain": [
       "      fit_time  score_time  test_accuracy  test_precision_macro  \\\n",
       "mean  0.346543    0.044282       0.963768              0.961011   \n",
       "std   0.100382    0.035130       0.018396              0.022401   \n",
       "\n",
       "      test_recall_macro  test_f1_macro  \n",
       "mean           0.966074       0.962560  \n",
       "std            0.018638       0.020508  "
      ]
     },
     "metadata": {},
     "output_type": "display_data"
    },
    {
     "name": "stdout",
     "output_type": "stream",
     "text": [
      "running Random Forest...\n"
     ]
    },
    {
     "data": {
      "text/html": [
       "<div>\n",
       "<style scoped>\n",
       "    .dataframe tbody tr th:only-of-type {\n",
       "        vertical-align: middle;\n",
       "    }\n",
       "\n",
       "    .dataframe tbody tr th {\n",
       "        vertical-align: top;\n",
       "    }\n",
       "\n",
       "    .dataframe thead th {\n",
       "        text-align: right;\n",
       "    }\n",
       "</style>\n",
       "<table border=\"1\" class=\"dataframe\">\n",
       "  <thead>\n",
       "    <tr style=\"text-align: right;\">\n",
       "      <th></th>\n",
       "      <th>fit_time</th>\n",
       "      <th>score_time</th>\n",
       "      <th>test_accuracy</th>\n",
       "      <th>test_precision_macro</th>\n",
       "      <th>test_recall_macro</th>\n",
       "      <th>test_f1_macro</th>\n",
       "    </tr>\n",
       "  </thead>\n",
       "  <tbody>\n",
       "    <tr>\n",
       "      <th>mean</th>\n",
       "      <td>5.619672</td>\n",
       "      <td>0.034374</td>\n",
       "      <td>0.988406</td>\n",
       "      <td>0.989317</td>\n",
       "      <td>0.987696</td>\n",
       "      <td>0.988348</td>\n",
       "    </tr>\n",
       "    <tr>\n",
       "      <th>std</th>\n",
       "      <td>1.080261</td>\n",
       "      <td>0.010721</td>\n",
       "      <td>0.013318</td>\n",
       "      <td>0.014399</td>\n",
       "      <td>0.015712</td>\n",
       "      <td>0.015035</td>\n",
       "    </tr>\n",
       "  </tbody>\n",
       "</table>\n",
       "</div>"
      ],
      "text/plain": [
       "      fit_time  score_time  test_accuracy  test_precision_macro  \\\n",
       "mean  5.619672    0.034374       0.988406              0.989317   \n",
       "std   1.080261    0.010721       0.013318              0.014399   \n",
       "\n",
       "      test_recall_macro  test_f1_macro  \n",
       "mean           0.987696       0.988348  \n",
       "std            0.015712       0.015035  "
      ]
     },
     "metadata": {},
     "output_type": "display_data"
    }
   ],
   "source": [
    "results = pd.DataFrame({})\n",
    "cross_validate_grid_search = KFold(n_splits=n_folds_grid_search)\n",
    "cross_validate_comparative_analysis = ShuffleSplit(n_splits=n_splits_comparative_analysis, test_size=test_size, random_state=random_state)\n",
    "for model_name, model_object, model_parameters in models:\n",
    "    print(f\"running {model_name}...\")\n",
    "    model_grid_search = GridSearchCV(\n",
    "        estimator=model_object,\n",
    "        param_grid=model_parameters,\n",
    "        scoring=scoring,\n",
    "        n_jobs=-1,\n",
    "        cv=cross_validate_grid_search\n",
    "    )\n",
    "    approach = Pipeline(steps=[\n",
    "        ('preprocessor', preprocessor),\n",
    "        ('model', model_grid_search)\n",
    "    ])\n",
    "    scores = cross_validate(\n",
    "        estimator=approach,\n",
    "        X=X,\n",
    "        y=y,\n",
    "        cv=cross_validate_comparative_analysis,\n",
    "        n_jobs=-1,\n",
    "        scoring=metrics\n",
    "    )\n",
    "    scores['model_name'] = [model_name] * n_splits_comparative_analysis\n",
    "    display(pd.DataFrame(scores).agg(['mean', 'std']))\n",
    "    results = pd.concat([results, pd.DataFrame(scores)], ignore_index=True)"
   ]
  },
  {
   "cell_type": "code",
   "execution_count": 7,
   "metadata": {},
   "outputs": [
    {
     "data": {
      "text/markdown": [
       "### 3.1 Resultados gerais"
      ],
      "text/plain": [
       "<IPython.core.display.Markdown object>"
      ]
     },
     "metadata": {},
     "output_type": "display_data"
    },
    {
     "data": {
      "text/html": [
       "<style type=\"text/css\">\n",
       "#T_61d2a td {\n",
       "  text-align: center;\n",
       "}\n",
       "#T_61d2a_row0_col0, #T_61d2a_row2_col2, #T_61d2a_row4_col1, #T_61d2a_row6_col1, #T_61d2a_row8_col1, #T_61d2a_row10_col1 {\n",
       "  color: white;\n",
       "  background-color: gray;\n",
       "  font-weight: bold;\n",
       "}\n",
       "</style>\n",
       "<table id=\"T_61d2a\">\n",
       "  <thead>\n",
       "    <tr>\n",
       "      <th class=\"blank\" >&nbsp;</th>\n",
       "      <th class=\"index_name level0\" >model_name</th>\n",
       "      <th id=\"T_61d2a_level0_col0\" class=\"col_heading level0 col0\" >Decision Tree</th>\n",
       "      <th id=\"T_61d2a_level0_col1\" class=\"col_heading level0 col1\" >K-Nearest Neighbors</th>\n",
       "      <th id=\"T_61d2a_level0_col2\" class=\"col_heading level0 col2\" >Random Forest</th>\n",
       "      <th id=\"T_61d2a_level0_col3\" class=\"col_heading level0 col3\" >Suport Vector Machines</th>\n",
       "    </tr>\n",
       "  </thead>\n",
       "  <tbody>\n",
       "    <tr>\n",
       "      <th id=\"T_61d2a_level0_row0\" class=\"row_heading level0 row0\" rowspan=\"2\">fit_time</th>\n",
       "      <th id=\"T_61d2a_level1_row0\" class=\"row_heading level1 row0\" >mean</th>\n",
       "      <td id=\"T_61d2a_row0_col0\" class=\"data row0 col0\" >0.346543</td>\n",
       "      <td id=\"T_61d2a_row0_col1\" class=\"data row0 col1\" >1.295083</td>\n",
       "      <td id=\"T_61d2a_row0_col2\" class=\"data row0 col2\" >5.619672</td>\n",
       "      <td id=\"T_61d2a_row0_col3\" class=\"data row0 col3\" >1.465620</td>\n",
       "    </tr>\n",
       "    <tr>\n",
       "      <th id=\"T_61d2a_level1_row1\" class=\"row_heading level1 row1\" >std</th>\n",
       "      <td id=\"T_61d2a_row1_col0\" class=\"data row1 col0\" >0.100382</td>\n",
       "      <td id=\"T_61d2a_row1_col1\" class=\"data row1 col1\" >0.147834</td>\n",
       "      <td id=\"T_61d2a_row1_col2\" class=\"data row1 col2\" >1.080261</td>\n",
       "      <td id=\"T_61d2a_row1_col3\" class=\"data row1 col3\" >0.330958</td>\n",
       "    </tr>\n",
       "    <tr>\n",
       "      <th id=\"T_61d2a_level0_row2\" class=\"row_heading level0 row2\" rowspan=\"2\">score_time</th>\n",
       "      <th id=\"T_61d2a_level1_row2\" class=\"row_heading level1 row2\" >mean</th>\n",
       "      <td id=\"T_61d2a_row2_col0\" class=\"data row2 col0\" >0.044282</td>\n",
       "      <td id=\"T_61d2a_row2_col1\" class=\"data row2 col1\" >0.050584</td>\n",
       "      <td id=\"T_61d2a_row2_col2\" class=\"data row2 col2\" >0.034374</td>\n",
       "      <td id=\"T_61d2a_row2_col3\" class=\"data row2 col3\" >0.042467</td>\n",
       "    </tr>\n",
       "    <tr>\n",
       "      <th id=\"T_61d2a_level1_row3\" class=\"row_heading level1 row3\" >std</th>\n",
       "      <td id=\"T_61d2a_row3_col0\" class=\"data row3 col0\" >0.035130</td>\n",
       "      <td id=\"T_61d2a_row3_col1\" class=\"data row3 col1\" >0.033302</td>\n",
       "      <td id=\"T_61d2a_row3_col2\" class=\"data row3 col2\" >0.010721</td>\n",
       "      <td id=\"T_61d2a_row3_col3\" class=\"data row3 col3\" >0.027095</td>\n",
       "    </tr>\n",
       "    <tr>\n",
       "      <th id=\"T_61d2a_level0_row4\" class=\"row_heading level0 row4\" rowspan=\"2\">test_accuracy</th>\n",
       "      <th id=\"T_61d2a_level1_row4\" class=\"row_heading level1 row4\" >mean</th>\n",
       "      <td id=\"T_61d2a_row4_col0\" class=\"data row4 col0\" >0.963768</td>\n",
       "      <td id=\"T_61d2a_row4_col1\" class=\"data row4 col1\" >0.994203</td>\n",
       "      <td id=\"T_61d2a_row4_col2\" class=\"data row4 col2\" >0.988406</td>\n",
       "      <td id=\"T_61d2a_row4_col3\" class=\"data row4 col3\" >0.991304</td>\n",
       "    </tr>\n",
       "    <tr>\n",
       "      <th id=\"T_61d2a_level1_row5\" class=\"row_heading level1 row5\" >std</th>\n",
       "      <td id=\"T_61d2a_row5_col0\" class=\"data row5 col0\" >0.018396</td>\n",
       "      <td id=\"T_61d2a_row5_col1\" class=\"data row5 col1\" >0.007484</td>\n",
       "      <td id=\"T_61d2a_row5_col2\" class=\"data row5 col2\" >0.013318</td>\n",
       "      <td id=\"T_61d2a_row5_col3\" class=\"data row5 col3\" >0.010133</td>\n",
       "    </tr>\n",
       "    <tr>\n",
       "      <th id=\"T_61d2a_level0_row6\" class=\"row_heading level0 row6\" rowspan=\"2\">test_precision_macro</th>\n",
       "      <th id=\"T_61d2a_level1_row6\" class=\"row_heading level1 row6\" >mean</th>\n",
       "      <td id=\"T_61d2a_row6_col0\" class=\"data row6 col0\" >0.961011</td>\n",
       "      <td id=\"T_61d2a_row6_col1\" class=\"data row6 col1\" >0.994947</td>\n",
       "      <td id=\"T_61d2a_row6_col2\" class=\"data row6 col2\" >0.989317</td>\n",
       "      <td id=\"T_61d2a_row6_col3\" class=\"data row6 col3\" >0.993603</td>\n",
       "    </tr>\n",
       "    <tr>\n",
       "      <th id=\"T_61d2a_level1_row7\" class=\"row_heading level1 row7\" >std</th>\n",
       "      <td id=\"T_61d2a_row7_col0\" class=\"data row7 col0\" >0.022401</td>\n",
       "      <td id=\"T_61d2a_row7_col1\" class=\"data row7 col1\" >0.006914</td>\n",
       "      <td id=\"T_61d2a_row7_col2\" class=\"data row7 col2\" >0.014399</td>\n",
       "      <td id=\"T_61d2a_row7_col3\" class=\"data row7 col3\" >0.007229</td>\n",
       "    </tr>\n",
       "    <tr>\n",
       "      <th id=\"T_61d2a_level0_row8\" class=\"row_heading level0 row8\" rowspan=\"2\">test_recall_macro</th>\n",
       "      <th id=\"T_61d2a_level1_row8\" class=\"row_heading level1 row8\" >mean</th>\n",
       "      <td id=\"T_61d2a_row8_col0\" class=\"data row8 col0\" >0.966074</td>\n",
       "      <td id=\"T_61d2a_row8_col1\" class=\"data row8 col1\" >0.994932</td>\n",
       "      <td id=\"T_61d2a_row8_col2\" class=\"data row8 col2\" >0.987696</td>\n",
       "      <td id=\"T_61d2a_row8_col3\" class=\"data row8 col3\" >0.989849</td>\n",
       "    </tr>\n",
       "    <tr>\n",
       "      <th id=\"T_61d2a_level1_row9\" class=\"row_heading level1 row9\" >std</th>\n",
       "      <td id=\"T_61d2a_row9_col0\" class=\"data row9 col0\" >0.018638</td>\n",
       "      <td id=\"T_61d2a_row9_col1\" class=\"data row9 col1\" >0.006580</td>\n",
       "      <td id=\"T_61d2a_row9_col2\" class=\"data row9 col2\" >0.015712</td>\n",
       "      <td id=\"T_61d2a_row9_col3\" class=\"data row9 col3\" >0.013403</td>\n",
       "    </tr>\n",
       "    <tr>\n",
       "      <th id=\"T_61d2a_level0_row10\" class=\"row_heading level0 row10\" rowspan=\"2\">test_f1_macro</th>\n",
       "      <th id=\"T_61d2a_level1_row10\" class=\"row_heading level1 row10\" >mean</th>\n",
       "      <td id=\"T_61d2a_row10_col0\" class=\"data row10 col0\" >0.962560</td>\n",
       "      <td id=\"T_61d2a_row10_col1\" class=\"data row10 col1\" >0.994838</td>\n",
       "      <td id=\"T_61d2a_row10_col2\" class=\"data row10 col2\" >0.988348</td>\n",
       "      <td id=\"T_61d2a_row10_col3\" class=\"data row10 col3\" >0.991511</td>\n",
       "    </tr>\n",
       "    <tr>\n",
       "      <th id=\"T_61d2a_level1_row11\" class=\"row_heading level1 row11\" >std</th>\n",
       "      <td id=\"T_61d2a_row11_col0\" class=\"data row11 col0\" >0.020508</td>\n",
       "      <td id=\"T_61d2a_row11_col1\" class=\"data row11 col1\" >0.006730</td>\n",
       "      <td id=\"T_61d2a_row11_col2\" class=\"data row11 col2\" >0.015035</td>\n",
       "      <td id=\"T_61d2a_row11_col3\" class=\"data row11 col3\" >0.010489</td>\n",
       "    </tr>\n",
       "  </tbody>\n",
       "</table>\n"
      ],
      "text/plain": [
       "<pandas.io.formats.style.Styler at 0x7a0eca65f460>"
      ]
     },
     "execution_count": 7,
     "metadata": {},
     "output_type": "execute_result"
    }
   ],
   "source": [
    "def highlight_best(s, props=''):\n",
    "    if s.name[1] != 'std':\n",
    "        if s.name[0].endswith('time'):\n",
    "            return np.where(s == np.nanmin(s.values), props, '')\n",
    "        return np.where(s == np.nanmax(s.values), props, '')\n",
    "\n",
    "display(Markdown(\"### 3.1 Resultados gerais\"))\n",
    "(\n",
    "    results\n",
    "    .groupby('model_name')\n",
    "    .agg(['mean', 'std']).T\n",
    "    .style\n",
    "    .apply(highlight_best, props='color:white;background-color:gray;font-weight: bold;', axis=1)\n",
    "    .set_table_styles([{'selector': 'td', 'props': 'text-align: center;'}])\n",
    ")"
   ]
  },
  {
   "cell_type": "markdown",
   "metadata": {},
   "source": [
    "Como pode ser visto, o classificador K-Nearest Neighbors obteve melhores resultados para todas as métricas, portanto, podemos obter os melhores parâmetros deste modelo e salvá-lo em disco para utilização em uma próxima etapa.\n",
    "\n",
    "## 3.2 Persistência do modelo\n",
    "\n"
   ]
  },
  {
   "cell_type": "code",
   "execution_count": 8,
   "metadata": {},
   "outputs": [
    {
     "name": "stdout",
     "output_type": "stream",
     "text": [
      "Hiper parâmetros do modelo: {'n_neighbors': 5, 'weights': 'uniform'}\n"
     ]
    }
   ],
   "source": [
    "#Obtem o modelo e os parametros ganhadores\n",
    "model_name, model_object, model_parameters  = [foo for foo in models if foo[0] == \"K-Nearest Neighbors\"][0] \n",
    "\n",
    "\n",
    "model_grid_search = GridSearchCV(\n",
    "        estimator=model_object,\n",
    "        param_grid=model_parameters,\n",
    "        scoring=scoring,\n",
    "        n_jobs=-1,\n",
    "        cv=cross_validate_grid_search\n",
    "    )\n",
    "\n",
    "approach = Pipeline([\n",
    "    (\"preprocessor\", preprocessor),\n",
    "    (\"model\", model_grid_search)\n",
    "])\n",
    "\n",
    "approach.fit(X, y) #Seleciona o approach\n",
    "\n",
    "print(f\"Hiper parâmetros do modelo: {approach.steps[1][1].best_params_}\")"
   ]
  },
  {
   "cell_type": "code",
   "execution_count": 9,
   "metadata": {},
   "outputs": [
    {
     "data": {
      "text/plain": [
       "['../models/model.joblib']"
      ]
     },
     "execution_count": 9,
     "metadata": {},
     "output_type": "execute_result"
    }
   ],
   "source": [
    "joblib.dump(approach, '../models/model.joblib') # Salva o modelo em disco"
   ]
  }
 ],
 "metadata": {
  "kernelspec": {
   "display_name": "Python 3 (ipykernel)",
   "language": "python",
   "name": "python3"
  },
  "language_info": {
   "codemirror_mode": {
    "name": "ipython",
    "version": 3
   },
   "file_extension": ".py",
   "mimetype": "text/x-python",
   "name": "python",
   "nbconvert_exporter": "python",
   "pygments_lexer": "ipython3",
   "version": "3.10.10"
  }
 },
 "nbformat": 4,
 "nbformat_minor": 4
}
